{
  "nbformat": 4,
  "nbformat_minor": 0,
  "metadata": {
    "colab": {
      "name": "Untitled0.ipynb",
      "provenance": []
    },
    "kernelspec": {
      "name": "python3",
      "display_name": "Python 3"
    }
  },
  "cells": [
    {
      "cell_type": "code",
      "metadata": {
        "id": "YIVVKgcyirfW",
        "colab_type": "code",
        "colab": {
          "base_uri": "https://localhost:8080/",
          "height": 202
        },
        "outputId": "cc96a6bf-8476-43e3-c3ba-3b99910bfa52"
      },
      "source": [
        "#1\n",
        "\n",
        "def mul_table(x):\n",
        "    for i in range(1,11):\n",
        "        print(str(x) + \" times \" + str(i) + \" is: \" + str(x*i))\n",
        "        \n",
        "num = int(input(\"Enter: \"))\n",
        "table(num)"
      ],
      "execution_count": null,
      "outputs": [
        {
          "output_type": "stream",
          "text": [
            "Enter: 9\n",
            "9 times 1 is: 9\n",
            "9 times 2 is: 18\n",
            "9 times 3 is: 27\n",
            "9 times 4 is: 36\n",
            "9 times 5 is: 45\n",
            "9 times 6 is: 54\n",
            "9 times 7 is: 63\n",
            "9 times 8 is: 72\n",
            "9 times 9 is: 81\n",
            "9 times 10 is: 90\n"
          ],
          "name": "stdout"
        }
      ]
    },
    {
      "cell_type": "code",
      "metadata": {
        "id": "JNVXmJtxjCX1",
        "colab_type": "code",
        "colab": {
          "base_uri": "https://localhost:8080/",
          "height": 605
        },
        "outputId": "b91e73a0-0acb-4ffc-f35a-1e3003999397"
      },
      "source": [
        "#2\n",
        "\n",
        "def prime(x):\n",
        "  for i  in range(2,x):\n",
        "    if(x % i == 0):\n",
        "      return False\n",
        "  return True\n",
        "\n",
        "\n",
        "for i in range(2,1001):\n",
        "  j = i+2\n",
        "  if(prime(i) and prime(j)):\n",
        "    print(str(i) + \", \" + str(j))"
      ],
      "execution_count": null,
      "outputs": [
        {
          "output_type": "stream",
          "text": [
            "3, 5\n",
            "5, 7\n",
            "11, 13\n",
            "17, 19\n",
            "29, 31\n",
            "41, 43\n",
            "59, 61\n",
            "71, 73\n",
            "101, 103\n",
            "107, 109\n",
            "137, 139\n",
            "149, 151\n",
            "179, 181\n",
            "191, 193\n",
            "197, 199\n",
            "227, 229\n",
            "239, 241\n",
            "269, 271\n",
            "281, 283\n",
            "311, 313\n",
            "347, 349\n",
            "419, 421\n",
            "431, 433\n",
            "461, 463\n",
            "521, 523\n",
            "569, 571\n",
            "599, 601\n",
            "617, 619\n",
            "641, 643\n",
            "659, 661\n",
            "809, 811\n",
            "821, 823\n",
            "827, 829\n",
            "857, 859\n",
            "881, 883\n"
          ],
          "name": "stdout"
        }
      ]
    },
    {
      "cell_type": "code",
      "metadata": {
        "id": "LYfn-98G-rRB",
        "colab_type": "code",
        "colab": {
          "base_uri": "https://localhost:8080/",
          "height": 118
        },
        "outputId": "9246bf5e-7c84-47cc-845e-69d18afb650c"
      },
      "source": [
        "#3\n",
        "\n",
        "def prime(x):\n",
        "  for i  in range(2,x):\n",
        "    if(x % i == 0):\n",
        "      return False\n",
        "  return True\n",
        "\n",
        "def prime_factor(y):\n",
        "  for i in range(2,y):\n",
        "     if(y % i == 0 and prime(i)):\n",
        "       while y % i== 0: \n",
        "            print(i), \n",
        "            y = y / i\n",
        "        \n",
        "\n",
        "num = int(input(\"Enter: \"))\n",
        "prime_factor(num)"
      ],
      "execution_count": null,
      "outputs": [
        {
          "output_type": "stream",
          "text": [
            "Enter: 200\n",
            "2\n",
            "2\n",
            "2\n",
            "5\n",
            "5\n"
          ],
          "name": "stdout"
        }
      ]
    },
    {
      "cell_type": "code",
      "metadata": {
        "id": "_HQhYt_E_qi1",
        "colab_type": "code",
        "colab": {
          "base_uri": "https://localhost:8080/",
          "height": 84
        },
        "outputId": "41d9d7ce-36c0-409b-d021-f5650b115e99"
      },
      "source": [
        "#4\n",
        "\n",
        "def fact(n):\n",
        "   if n == 1:\n",
        "       return n\n",
        "   else:\n",
        "       return n*fact(n-1)\n",
        "\n",
        "n = int(input())\n",
        "r = int(input())\n",
        "\n",
        "npr = fact(n)/fact(n-r)\n",
        "ncr = fact(n)/(fact(r)*fact(n-r))\n",
        "\n",
        "print(\"nPr is: \" + str(npr))\n",
        "print(\"nCr is: \" + str(ncr))"
      ],
      "execution_count": null,
      "outputs": [
        {
          "output_type": "stream",
          "text": [
            "5\n",
            "3\n",
            "nPr is: 60.0\n",
            "nCr is: 10.0\n"
          ],
          "name": "stdout"
        }
      ]
    },
    {
      "cell_type": "code",
      "metadata": {
        "id": "636C-yVdRxp7",
        "colab_type": "code",
        "colab": {
          "base_uri": "https://localhost:8080/",
          "height": 118
        },
        "outputId": "985c85e9-e236-4ec3-db54-dd5932bdac98"
      },
      "source": [
        "#5\n",
        "\n",
        "def convert_dtob(num):\n",
        "  if(num == 0):\n",
        "    return num\n",
        "  else:\n",
        "    convert_dtob(int(num/2))\n",
        "    print(num%2)\n",
        "\n",
        "num = int(input())\n",
        "convert_dtob(num)\n",
        "\n"
      ],
      "execution_count": null,
      "outputs": [
        {
          "output_type": "stream",
          "text": [
            "24\n",
            "1\n",
            "1\n",
            "0\n",
            "0\n",
            "0\n"
          ],
          "name": "stdout"
        }
      ]
    },
    {
      "cell_type": "code",
      "metadata": {
        "id": "SXUSQBEZhfhw",
        "colab_type": "code",
        "colab": {
          "base_uri": "https://localhost:8080/",
          "height": 50
        },
        "outputId": "0e190cca-0acc-4bce-8baa-51cbe731ee8a"
      },
      "source": [
        "#6\n",
        "\n",
        "def cubesum(num):\n",
        "  res = list(map(int, str(num)))\n",
        "  sum = 0\n",
        "  for i in res:\n",
        "    sum = sum + i**3\n",
        "  return sum\n",
        "  \n",
        "def PrintArmstrong(num):\n",
        "  if cubesum(num) == num:\n",
        "    return True\n",
        "\n",
        "def isArmstrong(num):\n",
        "  if PrintArmstrong(num):\n",
        "    print(\"Yes it is an Armstrong number!\")\n",
        "  else:\n",
        "    print(\"No, Don't waste time!\")\n",
        "\n",
        "num = int(input())\n",
        "isArmstrong(num)"
      ],
      "execution_count": null,
      "outputs": [
        {
          "output_type": "stream",
          "text": [
            "153\n",
            "Yes it is an Armstrong number!\n"
          ],
          "name": "stdout"
        }
      ]
    },
    {
      "cell_type": "code",
      "metadata": {
        "id": "eu9S57a-ozau",
        "colab_type": "code",
        "colab": {
          "base_uri": "https://localhost:8080/",
          "height": 50
        },
        "outputId": "5d88e5a2-ba1a-4d5c-d03f-0ccda39195e1"
      },
      "source": [
        "#7\n",
        "\n",
        "def prodDigits(num):\n",
        "  res = list(map(int, str(num)))\n",
        "  prod = 1 \n",
        "  for i in res:\n",
        "    prod = prod*i\n",
        "  return prod\n",
        "\n",
        "num = int(input())\n",
        "prodDigits(num)"
      ],
      "execution_count": null,
      "outputs": [
        {
          "output_type": "stream",
          "text": [
            "168\n"
          ],
          "name": "stdout"
        },
        {
          "output_type": "execute_result",
          "data": {
            "text/plain": [
              "48"
            ]
          },
          "metadata": {
            "tags": []
          },
          "execution_count": 15
        }
      ]
    },
    {
      "cell_type": "code",
      "metadata": {
        "id": "gMWjMzwrhWdH",
        "colab_type": "code",
        "colab": {
          "base_uri": "https://localhost:8080/",
          "height": 34
        },
        "outputId": "9d7c805c-df89-4c6e-b6b5-32dcc5af8ca2"
      },
      "source": [
        "#8\n",
        "\n",
        "def MDR(num):\n",
        "  if len(str(num)) == 1:\n",
        "    return num\n",
        "  else:\n",
        "     while len(str(num)) > 1:\n",
        "       num = prodDigits(num)\n",
        "  return num\n",
        "\n",
        "def MPersistence(num):\n",
        "  count = 0\n",
        "  while len(str(num)) > 1:\n",
        "    num = prodDigits(num)\n",
        "    count += 1\n",
        "  return count\n",
        "\n",
        "num = 86\n",
        "\n",
        "print(\"For {0} MDR is {1} and M Persistance is {2}\".format(num, MDR(num), MPersistence(num)))"
      ],
      "execution_count": null,
      "outputs": [
        {
          "output_type": "stream",
          "text": [
            "For 86 MDR is 6 and M Persistance is 3\n"
          ],
          "name": "stdout"
        }
      ]
    },
    {
      "cell_type": "code",
      "metadata": {
        "id": "-OL9Q9uxyTCF",
        "colab_type": "code",
        "colab": {
          "base_uri": "https://localhost:8080/",
          "height": 35
        },
        "outputId": "dae842e7-8972-4b1c-ca73-0cadfa82e247"
      },
      "source": [
        "#9\n",
        "\n",
        "def SumPdivisors(num):\n",
        "  divisors = []\n",
        "  for i in range(1,num):\n",
        "    if num % i == 0:\n",
        "      divisors.append(i)\n",
        "  return sum(divisors)\n",
        "    \n",
        "SumPdivisors(282)     "
      ],
      "execution_count": 9,
      "outputs": [
        {
          "output_type": "execute_result",
          "data": {
            "text/plain": [
              "294"
            ]
          },
          "metadata": {
            "tags": []
          },
          "execution_count": 9
        }
      ]
    },
    {
      "cell_type": "code",
      "metadata": {
        "id": "7yzbqqqW1Sts",
        "colab_type": "code",
        "colab": {
          "base_uri": "https://localhost:8080/",
          "height": 67
        },
        "outputId": "11512f0d-906f-4b63-a1bf-10de25da71a5"
      },
      "source": [
        "#10\n",
        "\n",
        "start = int(input())\n",
        "end = int(input())\n",
        "\n",
        "def PerfNum():\n",
        "  lst = []\n",
        "  for i in range(start, end+1):\n",
        "    if(SumPdivisors(i) == i):\n",
        "      lst.append(i)\n",
        "  return lst\n",
        "    \n",
        "PerfNum() "
      ],
      "execution_count": null,
      "outputs": [
        {
          "output_type": "stream",
          "text": [
            "1\n",
            "100\n"
          ],
          "name": "stdout"
        },
        {
          "output_type": "execute_result",
          "data": {
            "text/plain": [
              "[6, 28]"
            ]
          },
          "metadata": {
            "tags": []
          },
          "execution_count": 56
        }
      ]
    },
    {
      "cell_type": "code",
      "metadata": {
        "id": "CGU-93FO4EOo",
        "colab_type": "code",
        "colab": {
          "base_uri": "https://localhost:8080/",
          "height": 230
        },
        "outputId": "ea470998-6904-40b3-8be3-858b9a98a380"
      },
      "source": [
        "#11\n",
        "\n",
        "start = int(input())\n",
        "end = int(input())\n",
        "\n",
        "def amicable_pair():\n",
        "  lst = []\n",
        "  for i in range(start, end+1):\n",
        "    for j in range(i,end+1):\n",
        "      if(SumPdivisors(i) == j):\n",
        "        lst.append([i,j])\n",
        "  return lst\n",
        "\n",
        "amicable_pair() "
      ],
      "execution_count": 6,
      "outputs": [
        {
          "output_type": "stream",
          "text": [
            "200\n",
            "300\n"
          ],
          "name": "stdout"
        },
        {
          "output_type": "execute_result",
          "data": {
            "text/plain": [
              "[[200, 265],\n",
              " [204, 300],\n",
              " [208, 226],\n",
              " [220, 284],\n",
              " [222, 234],\n",
              " [224, 280],\n",
              " [246, 258],\n",
              " [258, 270],\n",
              " [272, 286],\n",
              " [282, 294]]"
            ]
          },
          "metadata": {
            "tags": []
          },
          "execution_count": 6
        }
      ]
    },
    {
      "cell_type": "code",
      "metadata": {
        "id": "pVAQH8RzsYzG",
        "colab_type": "code",
        "colab": {
          "base_uri": "https://localhost:8080/",
          "height": 141
        },
        "outputId": "ad0d6aa8-862d-42b4-e411-0c0fb2ed8a66"
      },
      "source": [
        "#12\n",
        "\n",
        "def odd_nos(x):\n",
        "  if x % 2 != 0:\n",
        "    return x\n",
        "\n",
        "numbers = []\n",
        "n = int(input(\"Enter number of elements : \"))  \n",
        "for i in range(0, n): \n",
        "    ele = int(input()) \n",
        "    numbers.append(ele)\n",
        "\n",
        "odd_nos_list = list(filter(odd_nos,numbers))\n",
        "print(odd_nos_list)"
      ],
      "execution_count": 20,
      "outputs": [
        {
          "output_type": "stream",
          "text": [
            "Enter number of elements : 5\n",
            "1\n",
            "2\n",
            "3\n",
            "4\n",
            "5\n",
            "[1, 3, 5]\n"
          ],
          "name": "stdout"
        }
      ]
    },
    {
      "cell_type": "code",
      "metadata": {
        "id": "GSxnWdWV5Kop",
        "colab_type": "code",
        "colab": {
          "base_uri": "https://localhost:8080/",
          "height": 141
        },
        "outputId": "f9d0f2c0-d477-4bf7-be8e-89535fb1bb0c"
      },
      "source": [
        "#13\n",
        "\n",
        "def cube_nos(x):\n",
        "  return x**3\n",
        "\n",
        "numbers = []\n",
        "n = int(input(\"Enter number of elements : \"))  \n",
        "for i in range(0, n): \n",
        "    ele = int(input()) \n",
        "    numbers.append(ele)\n",
        "\n",
        "cube_nos_list = list(map(cube_nos,numbers))\n",
        "print(cube_nos_list)"
      ],
      "execution_count": 21,
      "outputs": [
        {
          "output_type": "stream",
          "text": [
            "Enter number of elements : 5\n",
            "1\n",
            "2\n",
            "3\n",
            "4\n",
            "5\n",
            "[1, 8, 27, 64, 125]\n"
          ],
          "name": "stdout"
        }
      ]
    },
    {
      "cell_type": "code",
      "metadata": {
        "id": "GEPxhfWe6iBu",
        "colab_type": "code",
        "colab": {
          "base_uri": "https://localhost:8080/",
          "height": 141
        },
        "outputId": "22653382-af68-4777-ecf1-201b553c89a7"
      },
      "source": [
        "#14\n",
        "\n",
        "def cube_nos(x):\n",
        "  return x**3\n",
        "\n",
        "def even_nos(x):\n",
        "  if x % 2 == 0:\n",
        "    return x\n",
        "\n",
        "numbers = []\n",
        "n = int(input(\"Enter number of elements : \"))  \n",
        "for i in range(0, n): \n",
        "    ele = int(input()) \n",
        "    numbers.append(ele)\n",
        "\n",
        "even_cube_nos_list = list(filter(even_nos,(map(cube_nos,numbers))))\n",
        "print(even_cube_nos_list)\n",
        "\n"
      ],
      "execution_count": 22,
      "outputs": [
        {
          "output_type": "stream",
          "text": [
            "Enter number of elements : 5\n",
            "1\n",
            "2\n",
            "3\n",
            "4\n",
            "5\n",
            "[8, 64]\n"
          ],
          "name": "stdout"
        }
      ]
    }
  ]
}